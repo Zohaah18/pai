{
 "cells": [
  {
   "cell_type": "markdown",
   "metadata": {},
   "source": [
    "# __Numpy__\n",
    "- It is a general purpose array-processing package\n",
    "- It provides high-performance multi-dimensional array objects and tools for working with these arrays"
   ]
  },
  {
   "cell_type": "markdown",
   "metadata": {},
   "source": [
    "### __Arrays in Numpy__\n",
    "- It is a table of elements of the same type, indexed by a tuple of positive integers\n",
    "- Dimensions of array are called __axes__\n",
    "- Number of axes in an array is called __rank__\n",
    "- Numpy array class is called __ndarray__"
   ]
  },
  {
   "cell_type": "markdown",
   "metadata": {},
   "source": [
    "### __Creating an array using Numpy methods__\n",
    "- Numpy provides many functions to create arrays\n",
    "1. __Using __array()__ function__\n",
    "    - It is used to create a simple array from a list\n",
    "    - data type can be defined by passing data type in dtype argument"
   ]
  },
  {
   "cell_type": "code",
   "execution_count": null,
   "metadata": {},
   "outputs": [],
   "source": [
    "#Syntax\n",
    "#import numpy as np\n",
    "#array = np.array(<list>,dtype=int)"
   ]
  },
  {
   "cell_type": "code",
   "execution_count": 1,
   "metadata": {},
   "outputs": [
    {
     "name": "stdout",
     "output_type": "stream",
     "text": [
      "[1 2 3 4 5]\n"
     ]
    }
   ],
   "source": [
    "#Example 1: Creating a Basic Array\n",
    "import numpy as np\n",
    "array = np.array([1,2,3,4,5])\n",
    "print(array)"
   ]
  },
  {
   "cell_type": "code",
   "execution_count": 2,
   "metadata": {},
   "outputs": [
    {
     "name": "stdout",
     "output_type": "stream",
     "text": [
      "[[1 2 3]\n",
      " [4 5 6]\n",
      " [7 8 9]]\n"
     ]
    }
   ],
   "source": [
    "# Example 2: Creating a basic 2D array\n",
    "import numpy as np\n",
    "array = np.array([[1,2,3],[4,5,6],[7,8,9]])\n",
    "print(array)"
   ]
  },
  {
   "cell_type": "code",
   "execution_count": 4,
   "metadata": {},
   "outputs": [
    {
     "name": "stdout",
     "output_type": "stream",
     "text": [
      "[1. 2. 3. 4.]\n",
      "['1' '2' '3' '4']\n"
     ]
    }
   ],
   "source": [
    "# Example 3: Creating an array with specified type\n",
    "import numpy as np\n",
    "array = np.array([1,2,3,4],dtype=float)\n",
    "print(array)\n",
    "array2=np.array([1,2,3,4],dtype=str)\n",
    "print(array2)\n"
   ]
  },
  {
   "cell_type": "markdown",
   "metadata": {},
   "source": [
    "2. __Creting an array using Numpy functions__\n",
    "    - __zeros()__ function:\n",
    "        - Creates an array filled with zeroes\n",
    "        - Can take tuple as argument for multi-dimensional arrays"
   ]
  },
  {
   "cell_type": "code",
   "execution_count": null,
   "metadata": {},
   "outputs": [],
   "source": [
    "#Syntax\n",
    "#import numpy as np\n",
    "#array = np.zeroes(shapes,dtype=float)"
   ]
  },
  {
   "cell_type": "code",
   "execution_count": 6,
   "metadata": {},
   "outputs": [
    {
     "name": "stdout",
     "output_type": "stream",
     "text": [
      "[0. 0. 0. 0. 0.]\n"
     ]
    }
   ],
   "source": [
    "# Example 1: Creating a 1D array of zeroes of 5 size\n",
    "array = np.zeros(5)\n",
    "print(array)"
   ]
  },
  {
   "cell_type": "code",
   "execution_count": 7,
   "metadata": {},
   "outputs": [
    {
     "name": "stdout",
     "output_type": "stream",
     "text": [
      "[[0. 0. 0. 0.]\n",
      " [0. 0. 0. 0.]\n",
      " [0. 0. 0. 0.]]\n"
     ]
    }
   ],
   "source": [
    "# Example 2: Creating a 2D array \n",
    "import numpy as np\n",
    "array = np.zeros((3,4))\n",
    "print(array)"
   ]
  },
  {
   "cell_type": "code",
   "execution_count": 8,
   "metadata": {},
   "outputs": [
    {
     "name": "stdout",
     "output_type": "stream",
     "text": [
      "[[0 0 0 0]\n",
      " [0 0 0 0]\n",
      " [0 0 0 0]]\n"
     ]
    }
   ],
   "source": [
    "# Example 3: Creating an array of zeroes with integer data type\n",
    "import numpy as np\n",
    "array = np.zeros((3,4),dtype=int)\n",
    "print(array)"
   ]
  },
  {
   "cell_type": "markdown",
   "metadata": {},
   "source": [
    "__ones()__ function\n",
    "    - It creates an array filled with ones\n",
    "    - shape can be tuple for multi-dimensional array"
   ]
  },
  {
   "cell_type": "code",
   "execution_count": null,
   "metadata": {},
   "outputs": [],
   "source": [
    "#Syntax\n",
    "#import numpy as np\n",
    "# array = np.ones(shape,dtype=float)"
   ]
  },
  {
   "cell_type": "code",
   "execution_count": 10,
   "metadata": {},
   "outputs": [
    {
     "name": "stdout",
     "output_type": "stream",
     "text": [
      "[1. 1. 1. 1. 1. 1. 1. 1. 1. 1.]\n"
     ]
    }
   ],
   "source": [
    "# Example 1: Creating a 1d array of ones\n",
    "import numpy as np\n",
    "array = np.ones(10)\n",
    "print(array)"
   ]
  },
  {
   "cell_type": "code",
   "execution_count": 12,
   "metadata": {},
   "outputs": [
    {
     "name": "stdout",
     "output_type": "stream",
     "text": [
      "[[1. 1. 1. 1.]\n",
      " [1. 1. 1. 1.]\n",
      " [1. 1. 1. 1.]]\n"
     ]
    }
   ],
   "source": [
    "# Example 2: Creating a 2d array of ones\n",
    "import numpy as np\n",
    "array = np.ones((3,4))\n",
    "print(array)"
   ]
  },
  {
   "cell_type": "code",
   "execution_count": 13,
   "metadata": {},
   "outputs": [
    {
     "name": "stdout",
     "output_type": "stream",
     "text": [
      "[[1 1 1 1]\n",
      " [1 1 1 1]\n",
      " [1 1 1 1]]\n"
     ]
    }
   ],
   "source": [
    "# Example 3: Creating a 2d array of ones with different data type\n",
    "import numpy as np\n",
    "array = np.ones((3,4),dtype=int)\n",
    "print(array)"
   ]
  },
  {
   "cell_type": "markdown",
   "metadata": {},
   "source": [
    "- Using arange() function\n",
    "    - It is similar to range() function but it returns a numpy array"
   ]
  },
  {
   "cell_type": "code",
   "execution_count": null,
   "metadata": {},
   "outputs": [],
   "source": [
    "#Syntax:\n",
    "#import numpy as np\n",
    "# array=np.arange([start],stop,[step,]dtype=None)"
   ]
  },
  {
   "cell_type": "code",
   "execution_count": 14,
   "metadata": {},
   "outputs": [
    {
     "name": "stdout",
     "output_type": "stream",
     "text": [
      "[0 1 2 3 4 5 6 7 8 9]\n"
     ]
    }
   ],
   "source": [
    "#Example 1: Creating an array using only stop parameter\n",
    "import numpy as np\n",
    "array = np.arange(10)\n",
    "print(array)"
   ]
  },
  {
   "cell_type": "code",
   "execution_count": 15,
   "metadata": {},
   "outputs": [
    {
     "name": "stdout",
     "output_type": "stream",
     "text": [
      "[ 5  6  7  8  9 10 11 12 13 14]\n"
     ]
    }
   ],
   "source": [
    "# Example 2: Creating an array using start and stop parameter\n",
    "import numpy as np\n",
    "array = np.arange(5,15)\n",
    "print(array)"
   ]
  },
  {
   "cell_type": "code",
   "execution_count": 17,
   "metadata": {},
   "outputs": [
    {
     "name": "stdout",
     "output_type": "stream",
     "text": [
      "[10 12 14 16 18]\n"
     ]
    }
   ],
   "source": [
    "# Example 3: Creating an array using start, stop and step parameter\n",
    "import numpy as np\n",
    "array = np.arange(10,20,2)\n",
    "print(array)"
   ]
  },
  {
   "cell_type": "code",
   "execution_count": 19,
   "metadata": {},
   "outputs": [
    {
     "name": "stdout",
     "output_type": "stream",
     "text": [
      "[11 10  9  8  7  6  5  4  3  2  1]\n"
     ]
    }
   ],
   "source": [
    "#Example 4: Using negative step\n",
    "import numpy as np\n",
    "array= np.arange(11,0,-1)\n",
    "print(array)"
   ]
  },
  {
   "cell_type": "code",
   "execution_count": 35,
   "metadata": {},
   "outputs": [
    {
     "name": "stdout",
     "output_type": "stream",
     "text": [
      "[0.  0.2 0.4 0.6 0.8 1.  1.2 1.4 1.6 1.8 2.  2.2 2.4 2.6 2.8 3.  3.2 3.4\n",
      " 3.6 3.8 4.  4.2 4.4 4.6 4.8 5.  5.2 5.4 5.6 5.8 6.  6.2 6.4 6.6 6.8 7.\n",
      " 7.2 7.4 7.6 7.8 8.  8.2 8.4 8.6 8.8 9.  9.2 9.4 9.6 9.8]\n"
     ]
    }
   ],
   "source": [
    "#Example 5: Using float\n",
    "import numpy as np\n",
    "array = np.arange(0,10,0.2,dtype=float)\n",
    "print(array)"
   ]
  },
  {
   "cell_type": "markdown",
   "metadata": {},
   "source": [
    "- __linspace() function__\n",
    "    - It is used to create an evenly spaced array between two intervals (start, stop)\n",
    "    -  Unlike arange(), in linspace() you define the number of elements to be made between two intervals "
   ]
  },
  {
   "cell_type": "code",
   "execution_count": null,
   "metadata": {},
   "outputs": [],
   "source": [
    "#Syntax\n",
    "#import numpy as np\n",
    "#array = np.linspace(start,stop,num=50,endpoint=True,dtype=None)"
   ]
  },
  {
   "cell_type": "code",
   "execution_count": 22,
   "metadata": {},
   "outputs": [
    {
     "name": "stdout",
     "output_type": "stream",
     "text": [
      "[0.         0.02040816 0.04081633 0.06122449 0.08163265 0.10204082\n",
      " 0.12244898 0.14285714 0.16326531 0.18367347 0.20408163 0.2244898\n",
      " 0.24489796 0.26530612 0.28571429 0.30612245 0.32653061 0.34693878\n",
      " 0.36734694 0.3877551  0.40816327 0.42857143 0.44897959 0.46938776\n",
      " 0.48979592 0.51020408 0.53061224 0.55102041 0.57142857 0.59183673\n",
      " 0.6122449  0.63265306 0.65306122 0.67346939 0.69387755 0.71428571\n",
      " 0.73469388 0.75510204 0.7755102  0.79591837 0.81632653 0.83673469\n",
      " 0.85714286 0.87755102 0.89795918 0.91836735 0.93877551 0.95918367\n",
      " 0.97959184 1.        ]\n"
     ]
    }
   ],
   "source": [
    "# Example 1: Generating aray between 0 and 1\n",
    "import numpy as np\n",
    "array = np.linspace(0,1)\n",
    "print(array)"
   ]
  },
  {
   "cell_type": "code",
   "execution_count": 24,
   "metadata": {},
   "outputs": [
    {
     "name": "stdout",
     "output_type": "stream",
     "text": [
      "[0.         0.55555556 1.11111111 1.66666667 2.22222222 2.77777778\n",
      " 3.33333333 3.88888889 4.44444444 5.        ]\n"
     ]
    }
   ],
   "source": [
    "# Example 2: Creating an array of size 10 between 0 and 5\n",
    "import numpy as np\n",
    "array = np.linspace(0,5,num=10)\n",
    "print(array)"
   ]
  },
  {
   "cell_type": "code",
   "execution_count": 25,
   "metadata": {},
   "outputs": [
    {
     "name": "stdout",
     "output_type": "stream",
     "text": [
      "[0.  0.5 1.  1.5 2.  2.5 3.  3.5 4.  4.5]\n"
     ]
    }
   ],
   "source": [
    "# Example 3: Excluding endpoint\n",
    "import numpy as np\n",
    "array = np.linspace(0,5,num=10,endpoint=False)\n",
    "print(array)"
   ]
  },
  {
   "cell_type": "code",
   "execution_count": 36,
   "metadata": {},
   "outputs": [
    {
     "name": "stdout",
     "output_type": "stream",
     "text": [
      "[0 0 1 1 2 2 3 3 4 4]\n"
     ]
    }
   ],
   "source": [
    "# Example 4: Specifying data type\n",
    "import numpy as np\n",
    "array = np.linspace(0,5,num=10,dtype=int)\n",
    "print(array)"
   ]
  },
  {
   "cell_type": "markdown",
   "metadata": {},
   "source": [
    "- __eye()__ function\n",
    "    - It creates a 2D identity matrix\n",
    "    - An identity matrix is a matrix with 1 in diagonal and zeros elsewhere"
   ]
  },
  {
   "cell_type": "code",
   "execution_count": null,
   "metadata": {},
   "outputs": [],
   "source": [
    "#Syntax:\n",
    "#import numpy as np\n",
    "#array = np.eye(N,M=none,k=0,dtype=float)\n",
    "#N: Number of rows in array\n",
    "#M: Number of columns in array(Default is N)\n",
    "#k: Starting index of diagonal(Default is 0)"
   ]
  },
  {
   "cell_type": "code",
   "execution_count": 29,
   "metadata": {},
   "outputs": [
    {
     "name": "stdout",
     "output_type": "stream",
     "text": [
      "[[1. 0. 0.]\n",
      " [0. 1. 0.]\n",
      " [0. 0. 1.]]\n"
     ]
    }
   ],
   "source": [
    "#Example 1: Creating a basic identity matrix\n",
    "import numpy as np\n",
    "I = np.eye(3)\n",
    "print(I)"
   ]
  },
  {
   "cell_type": "code",
   "execution_count": 30,
   "metadata": {},
   "outputs": [
    {
     "name": "stdout",
     "output_type": "stream",
     "text": [
      "[[1. 0. 0. 0.]\n",
      " [0. 1. 0. 0.]\n",
      " [0. 0. 1. 0.]]\n"
     ]
    }
   ],
   "source": [
    "#Example 2:  Creating a rectangular matrix of 3x4\n",
    "import numpy as np\n",
    "R=np.eye(3,M=4)\n",
    "print(R)"
   ]
  },
  {
   "cell_type": "code",
   "execution_count": 31,
   "metadata": {},
   "outputs": [
    {
     "name": "stdout",
     "output_type": "stream",
     "text": [
      "[[0. 1. 0. 0.]\n",
      " [0. 0. 1. 0.]\n",
      " [0. 0. 0. 1.]]\n"
     ]
    }
   ],
   "source": [
    "# Example 3: Creating a matrix of 3x4 and diagonal shifted above main diagonal\n",
    "import numpy as np\n",
    "D=np.eye(3,M=4,k=1)\n",
    "print(D)\n"
   ]
  },
  {
   "cell_type": "code",
   "execution_count": 32,
   "metadata": {},
   "outputs": [
    {
     "name": "stdout",
     "output_type": "stream",
     "text": [
      "[[0. 0. 0.]\n",
      " [1. 0. 0.]\n",
      " [0. 1. 0.]]\n"
     ]
    }
   ],
   "source": [
    "#Example 4: Creating a 3x4 matrix with diagonal shifted below main diagonal\n",
    "import numpy as np\n",
    "L= np.eye(3,M=3,k=-1)\n",
    "print(L)"
   ]
  },
  {
   "cell_type": "markdown",
   "metadata": {},
   "source": [
    "### __Array Attribute and Methods__\n",
    "- __min()__ function\n",
    "    - Returns the minimum value in an array"
   ]
  },
  {
   "cell_type": "code",
   "execution_count": null,
   "metadata": {},
   "outputs": [],
   "source": [
    "#Syntax: \n",
    "#import numpy as np\n",
    "#min= np.min(array,axis=None)"
   ]
  },
  {
   "cell_type": "code",
   "execution_count": 37,
   "metadata": {},
   "outputs": [
    {
     "name": "stdout",
     "output_type": "stream",
     "text": [
      "1\n"
     ]
    }
   ],
   "source": [
    "#Example 1: min value from 1d array\n",
    "import numpy as np\n",
    "array=np.array([4,1,7,3])\n",
    "min=min(array)\n",
    "print(min)"
   ]
  },
  {
   "cell_type": "code",
   "execution_count": 39,
   "metadata": {},
   "outputs": [
    {
     "name": "stdout",
     "output_type": "stream",
     "text": [
      "1\n"
     ]
    }
   ],
   "source": [
    "#Example 2: Min value from 2d array\n",
    "import numpy as np\n",
    "array = np.array([[3,7,5],[8,4,2],[6,1,9]])\n",
    "min = np.min(array)\n",
    "print(min)"
   ]
  },
  {
   "cell_type": "code",
   "execution_count": 42,
   "metadata": {},
   "outputs": [
    {
     "name": "stdout",
     "output_type": "stream",
     "text": [
      "[[3 7 5]\n",
      " [8 4 2]\n",
      " [6 1 9]]\n",
      "[3 1 2]\n"
     ]
    }
   ],
   "source": [
    "#Example 3: Min value of each column in 2d array\n",
    "import numpy as np\n",
    "array = np.array([[3,7,5],[8,4,2],[6,1,9]])\n",
    "print(array)\n",
    "min = np.min(array,axis=0)\n",
    "print(min)"
   ]
  },
  {
   "cell_type": "code",
   "execution_count": 43,
   "metadata": {},
   "outputs": [
    {
     "name": "stdout",
     "output_type": "stream",
     "text": [
      "[[3 7 5]\n",
      " [8 4 2]\n",
      " [6 1 9]]\n",
      "[3 2 1]\n"
     ]
    }
   ],
   "source": [
    "#Min value of each row in 2d array\n",
    "import numpy as np\n",
    "array = np.array([[3,7,5],[8,4,2],[6,1,9]])\n",
    "print(array)\n",
    "min = np.min(array,axis=1)\n",
    "print(min)"
   ]
  },
  {
   "cell_type": "markdown",
   "metadata": {},
   "source": [
    "- __max()__ function\n",
    "    - It returns the max value from the array"
   ]
  },
  {
   "cell_type": "code",
   "execution_count": null,
   "metadata": {},
   "outputs": [],
   "source": [
    "#Syntax: \n",
    "#import numpy as np\n",
    "#max= np.max(array,axis=None)"
   ]
  },
  {
   "cell_type": "code",
   "execution_count": 44,
   "metadata": {},
   "outputs": [
    {
     "name": "stdout",
     "output_type": "stream",
     "text": [
      "7\n"
     ]
    }
   ],
   "source": [
    "#Example 1: Getting max value from 1D array\n",
    "import numpy as np\n",
    "array=np.array([4,1,7,3])\n",
    "max=np.max(array)\n",
    "print(max)"
   ]
  },
  {
   "cell_type": "code",
   "execution_count": 45,
   "metadata": {},
   "outputs": [
    {
     "name": "stdout",
     "output_type": "stream",
     "text": [
      "9\n"
     ]
    }
   ],
   "source": [
    "#Example 2: \n",
    "import numpy as np\n",
    "array = np.array([[3,7,5],[8,4,2],[6,1,9]])\n",
    "max=np.max(array)\n",
    "print(max)"
   ]
  },
  {
   "cell_type": "code",
   "execution_count": 47,
   "metadata": {},
   "outputs": [
    {
     "name": "stdout",
     "output_type": "stream",
     "text": [
      "[[3 7 5]\n",
      " [8 4 2]\n",
      " [6 1 9]]\n",
      "[8 7 9]\n"
     ]
    }
   ],
   "source": [
    "#Example 3: Getting max values from all columns\n",
    "import numpy as np\n",
    "array = np.array([[3,7,5],[8,4,2],[6,1,9]])\n",
    "print(array)\n",
    "max=np.max(array,axis=0)\n",
    "print(max)"
   ]
  },
  {
   "cell_type": "code",
   "execution_count": 48,
   "metadata": {},
   "outputs": [
    {
     "name": "stdout",
     "output_type": "stream",
     "text": [
      "[[3 7 5]\n",
      " [8 4 2]\n",
      " [6 1 9]]\n",
      "[7 8 9]\n"
     ]
    }
   ],
   "source": [
    "#Example 4: Getting max values from all rows\n",
    "import numpy as np\n",
    "array = np.array([[3,7,5],[8,4,2],[6,1,9]])\n",
    "print(array)\n",
    "max=np.max(array,axis=1)\n",
    "print(max)"
   ]
  },
  {
   "cell_type": "markdown",
   "metadata": {},
   "source": [
    "- __argmax()__ function\n",
    "    - It returns the index of the max value in the array\n",
    "    - If there are two occurences of a max value, first occurence in returned"
   ]
  },
  {
   "cell_type": "code",
   "execution_count": null,
   "metadata": {},
   "outputs": [],
   "source": [
    "#Syntax\n",
    "#import numpy as np\n",
    "#i = np.argmax(array,axis=None)"
   ]
  },
  {
   "cell_type": "code",
   "execution_count": 49,
   "metadata": {},
   "outputs": [
    {
     "name": "stdout",
     "output_type": "stream",
     "text": [
      "3\n"
     ]
    }
   ],
   "source": [
    "#Example 1: Argmax of 1d array\n",
    "import numpy as np\n",
    "array=np.array([1,5,3,9,2])\n",
    "index = np.argmax(array)\n",
    "print(index)"
   ]
  },
  {
   "cell_type": "code",
   "execution_count": 52,
   "metadata": {},
   "outputs": [
    {
     "name": "stdout",
     "output_type": "stream",
     "text": [
      "8\n"
     ]
    }
   ],
   "source": [
    "# Example 2: Argmax in 2D array\n",
    "import numpy as np\n",
    "array = np.array([[10,15,30],[8,22,5],[3,25,50]])\n",
    "index = np.argmax(array)\n",
    "print(index)"
   ]
  },
  {
   "cell_type": "code",
   "execution_count": 53,
   "metadata": {},
   "outputs": [
    {
     "name": "stdout",
     "output_type": "stream",
     "text": [
      "[[10 15 30]\n",
      " [ 8 22  5]\n",
      " [ 3 25 50]]\n",
      "[0 2 2]\n"
     ]
    }
   ],
   "source": [
    "#Example 3: Argmax column-wise\n",
    "import numpy as np\n",
    "array = np.array([[10,15,30],[8,22,5],[3,25,50]])\n",
    "print(array)\n",
    "index = np.argmax(array,axis=0)\n",
    "print(index)"
   ]
  },
  {
   "cell_type": "code",
   "execution_count": 54,
   "metadata": {},
   "outputs": [
    {
     "name": "stdout",
     "output_type": "stream",
     "text": [
      "[[10 15 30]\n",
      " [ 8 22  5]\n",
      " [ 3 25 50]]\n",
      "[2 1 2]\n"
     ]
    }
   ],
   "source": [
    "#Example 4: Argmax row-wise\n",
    "import numpy as np\n",
    "array = np.array([[10,15,30],[8,22,5],[3,25,50]])\n",
    "print(array)\n",
    "index = np.argmax(array,axis=1)\n",
    "print(index)"
   ]
  },
  {
   "cell_type": "markdown",
   "metadata": {},
   "source": [
    "- __argmin()__ function\n",
    "    - It returns the index of the min value in the array\n",
    "    - If there are two occurences of a min value, first occurence in returned"
   ]
  },
  {
   "cell_type": "code",
   "execution_count": null,
   "metadata": {},
   "outputs": [],
   "source": [
    "#Syntax\n",
    "#import numpy as np\n",
    "#i = np.argmin(array,axis=None)"
   ]
  },
  {
   "cell_type": "code",
   "execution_count": 55,
   "metadata": {},
   "outputs": [
    {
     "name": "stdout",
     "output_type": "stream",
     "text": [
      "0\n"
     ]
    }
   ],
   "source": [
    "#Example 1: Argmin of 1d array\n",
    "import numpy as np\n",
    "array=np.array([1,5,3,9,2])\n",
    "index = np.argmin(array)\n",
    "print(index)"
   ]
  },
  {
   "cell_type": "code",
   "execution_count": 56,
   "metadata": {},
   "outputs": [
    {
     "name": "stdout",
     "output_type": "stream",
     "text": [
      "6\n"
     ]
    }
   ],
   "source": [
    "# Example 2: Argmin in 2D array\n",
    "import numpy as np\n",
    "array = np.array([[10,15,30],[8,22,5],[3,25,50]])\n",
    "index = np.argmin(array)\n",
    "print(index)"
   ]
  },
  {
   "cell_type": "code",
   "execution_count": 58,
   "metadata": {},
   "outputs": [
    {
     "name": "stdout",
     "output_type": "stream",
     "text": [
      "[[10 15 30]\n",
      " [ 8 22  5]\n",
      " [ 3 25 50]]\n",
      "[2 0 1]\n"
     ]
    }
   ],
   "source": [
    "#Example 3: Argmax column-wise\n",
    "import numpy as np\n",
    "array = np.array([[10,15,30],[8,22,5],[3,25,50]])\n",
    "print(array)\n",
    "index = np.argmin(array,axis=0)\n",
    "print(index)"
   ]
  },
  {
   "cell_type": "code",
   "execution_count": 59,
   "metadata": {},
   "outputs": [
    {
     "name": "stdout",
     "output_type": "stream",
     "text": [
      "[[10 15 30]\n",
      " [ 8 22  5]\n",
      " [ 3 25 50]]\n",
      "[0 2 0]\n"
     ]
    }
   ],
   "source": [
    "#Example 4: Argmax row-wise\n",
    "import numpy as np\n",
    "array = np.array([[10,15,30],[8,22,5],[3,25,50]])\n",
    "print(array)\n",
    "index = np.argmin(array,axis=1)\n",
    "print(index)"
   ]
  },
  {
   "cell_type": "markdown",
   "metadata": {},
   "source": [
    "- __reshape()__ method\n",
    "    - It is used to reshape an array\n",
    "    - Useful when we have to change dimensions of a array without changing a data"
   ]
  },
  {
   "cell_type": "code",
   "execution_count": null,
   "metadata": {},
   "outputs": [],
   "source": [
    "#Syntax\n",
    "#import numpy as np\n",
    "#array=np.reshape(array,newshape)"
   ]
  },
  {
   "cell_type": "code",
   "execution_count": 62,
   "metadata": {},
   "outputs": [
    {
     "name": "stdout",
     "output_type": "stream",
     "text": [
      "[ 0  1  2  3  4  5  6  7  8  9 10 11]\n",
      "[[ 0  1  2  3]\n",
      " [ 4  5  6  7]\n",
      " [ 8  9 10 11]]\n"
     ]
    }
   ],
   "source": [
    "#Example 1: Reshaping a 1D array to 2D\n",
    "import numpy as np\n",
    "array = np.arange(12)\n",
    "print(array)\n",
    "array=np.reshape(array,(3,4))\n",
    "print(array)"
   ]
  },
  {
   "cell_type": "code",
   "execution_count": 63,
   "metadata": {},
   "outputs": [
    {
     "name": "stdout",
     "output_type": "stream",
     "text": [
      "[[1 2 3]\n",
      " [4 5 6]]\n",
      "[[1 2]\n",
      " [3 4]\n",
      " [5 6]]\n"
     ]
    }
   ],
   "source": [
    "#Example 2: Reshaping a 2x3 array into 3x2 array\n",
    "import numpy as np\n",
    "array=np.array([[1,2,3],[4,5,6]])\n",
    "print(array)\n",
    "array=np.reshape(array,(3,2))\n",
    "print(array)"
   ]
  },
  {
   "cell_type": "code",
   "execution_count": 65,
   "metadata": {},
   "outputs": [
    {
     "name": "stdout",
     "output_type": "stream",
     "text": [
      "[[1 2 3]\n",
      " [4 5 6]]\n",
      "[[1 2]\n",
      " [3 4]\n",
      " [5 6]]\n"
     ]
    }
   ],
   "source": [
    "#Example 3: Automatically reshaping (using -1)\n",
    "import numpy as np\n",
    "array=np.array([[1,2,3],[4,5,6]])\n",
    "print(array)\n",
    "array=np.reshape(array,(3,-1))\n",
    "print(array)"
   ]
  },
  {
   "cell_type": "markdown",
   "metadata": {},
   "source": [
    "- __mean()__ function\n",
    "    - It is used to return the mean of an array"
   ]
  },
  {
   "cell_type": "code",
   "execution_count": null,
   "metadata": {},
   "outputs": [],
   "source": [
    "#Syntax:\n",
    "#import numpy as np\n",
    "#mean=np.mean(array,axis=None,dtype=float)"
   ]
  },
  {
   "cell_type": "code",
   "execution_count": 77,
   "metadata": {},
   "outputs": [
    {
     "name": "stdout",
     "output_type": "stream",
     "text": [
      "3.0\n"
     ]
    }
   ],
   "source": [
    "#Example 1: Calculating mean of 1D array\n",
    "import numpy as np\n",
    "array = np.array([1,2,3,4,5])\n",
    "mean=np.mean(array)\n",
    "print(mean)"
   ]
  },
  {
   "cell_type": "code",
   "execution_count": 79,
   "metadata": {},
   "outputs": [
    {
     "name": "stdout",
     "output_type": "stream",
     "text": [
      "3.5\n"
     ]
    }
   ],
   "source": [
    "#Example 2: Calculating mean of 2D array\n",
    "import numpy as np\n",
    "array = np.array([[1,2,3],[4,5,6]])\n",
    "mean=np.mean(array)\n",
    "print(mean)"
   ]
  },
  {
   "cell_type": "code",
   "execution_count": 81,
   "metadata": {},
   "outputs": [
    {
     "name": "stdout",
     "output_type": "stream",
     "text": [
      "[[1 2 3]\n",
      " [4 5 6]]\n",
      "[2.5 3.5 4.5]\n"
     ]
    }
   ],
   "source": [
    "#Example 3: Calculating mean of 2D array column wise\n",
    "import numpy as np\n",
    "array=np.array([[1,2,3],[4,5,6]])\n",
    "print(array)\n",
    "mean=np.mean(array,axis=0)\n",
    "print(mean)"
   ]
  },
  {
   "cell_type": "code",
   "execution_count": 84,
   "metadata": {},
   "outputs": [
    {
     "name": "stdout",
     "output_type": "stream",
     "text": [
      "[[1 2 3]\n",
      " [4 5 6]]\n",
      "[2. 5.]\n"
     ]
    }
   ],
   "source": [
    "#Example 4: Calculating mean of 2D array row wise\n",
    "import numpy as np\n",
    "array=np.array([[1,2,3],[4,5,6]])\n",
    "print(array)\n",
    "mean=np.mean(array,axis=1)\n",
    "print(mean)"
   ]
  },
  {
   "cell_type": "markdown",
   "metadata": {},
   "source": [
    "- __sum()__ function\n",
    "    - It is used to compute the sum of the entire array"
   ]
  },
  {
   "cell_type": "code",
   "execution_count": null,
   "metadata": {},
   "outputs": [],
   "source": [
    "#Syntax\n",
    "#import numpy as np\n",
    "#sum=np.sum(array,axis=None,dtype=None)"
   ]
  },
  {
   "cell_type": "code",
   "execution_count": 85,
   "metadata": {},
   "outputs": [
    {
     "name": "stdout",
     "output_type": "stream",
     "text": [
      "15\n"
     ]
    }
   ],
   "source": [
    "# Example 1: Calculating sum of 1D array\n",
    "import numpy as np\n",
    "array=np.array([1,2,3,4,5])\n",
    "sum=np.sum(array)\n",
    "print(sum)"
   ]
  },
  {
   "cell_type": "code",
   "execution_count": 86,
   "metadata": {},
   "outputs": [
    {
     "name": "stdout",
     "output_type": "stream",
     "text": [
      "21\n"
     ]
    }
   ],
   "source": [
    "#Example 2: Calculating sum of 2D array\n",
    "import numpy as np\n",
    "array = np.array([[1,2,3],[4,5,6]])\n",
    "sum=np.sum(array)\n",
    "print(sum)"
   ]
  },
  {
   "cell_type": "code",
   "execution_count": 87,
   "metadata": {},
   "outputs": [
    {
     "name": "stdout",
     "output_type": "stream",
     "text": [
      "[5 7 9]\n"
     ]
    }
   ],
   "source": [
    "#Example 3: Calculating sum of 2D array column wise\n",
    "import numpy as np\n",
    "array = np.array([[1,2,3],[4,5,6]])\n",
    "sum=np.sum(array,axis=0)\n",
    "print(sum)"
   ]
  },
  {
   "cell_type": "code",
   "execution_count": 88,
   "metadata": {},
   "outputs": [
    {
     "name": "stdout",
     "output_type": "stream",
     "text": [
      "[ 6 15]\n"
     ]
    }
   ],
   "source": [
    "#Example 4: Calculating sum of 2D array row wise\n",
    "import numpy as np\n",
    "array = np.array([[1,2,3],[4,5,6]])\n",
    "sum=np.sum(array,axis=1)\n",
    "print(sum)"
   ]
  },
  {
   "cell_type": "markdown",
   "metadata": {},
   "source": [
    "- __prod()__ function\n",
    "    - It returns the product of every value in the array"
   ]
  },
  {
   "cell_type": "code",
   "execution_count": null,
   "metadata": {},
   "outputs": [],
   "source": [
    "#Syntax\n",
    "#import numpy as np\n",
    "#product=np.prod(array,axis=None,dtype=None)"
   ]
  },
  {
   "cell_type": "code",
   "execution_count": 89,
   "metadata": {},
   "outputs": [
    {
     "name": "stdout",
     "output_type": "stream",
     "text": [
      "120\n"
     ]
    }
   ],
   "source": [
    "# Example 1: Calculating product of 1D array\n",
    "import numpy as np\n",
    "array=np.array([1,2,3,4,5])\n",
    "product=np.prod(array)\n",
    "print(product)"
   ]
  },
  {
   "cell_type": "code",
   "execution_count": 92,
   "metadata": {},
   "outputs": [
    {
     "name": "stdout",
     "output_type": "stream",
     "text": [
      "720\n"
     ]
    }
   ],
   "source": [
    "#Example 2: Calculating product of 2D array\n",
    "import numpy as np\n",
    "array = np.array([[1,2,3],[4,5,6]])\n",
    "product=np.prod(array)\n",
    "print(product)"
   ]
  },
  {
   "cell_type": "code",
   "execution_count": 94,
   "metadata": {},
   "outputs": [
    {
     "name": "stdout",
     "output_type": "stream",
     "text": [
      "[[1 2 3]\n",
      " [4 5 6]]\n",
      "[ 4 10 18]\n"
     ]
    }
   ],
   "source": [
    "#Example 3: Calculating product of 2D array column wise\n",
    "import numpy as np\n",
    "array=np.array([[1,2,3],[4,5,6]])\n",
    "print(array)\n",
    "product=np.prod(array,axis=0)\n",
    "print(product)"
   ]
  },
  {
   "cell_type": "code",
   "execution_count": 99,
   "metadata": {},
   "outputs": [
    {
     "name": "stdout",
     "output_type": "stream",
     "text": [
      "[[1 2 3]\n",
      " [4 5 6]]\n",
      "[  6 120]\n"
     ]
    }
   ],
   "source": [
    "#Example 4: Calculating product of 2D array row wise\n",
    "import numpy as np\n",
    "array = np.array([[1,2,3],[4,5,6]])\n",
    "print(array)\n",
    "product=np.prod(array,axis=1)\n",
    "print(product)"
   ]
  },
  {
   "cell_type": "markdown",
   "metadata": {},
   "source": [
    "- __absolute()__ function\n",
    "    - It is used to convert every value in array into positive"
   ]
  },
  {
   "cell_type": "code",
   "execution_count": null,
   "metadata": {},
   "outputs": [],
   "source": [
    "#Syntax\n",
    "#import numpy as np\n",
    "#array=np.absolute(array,dtype=None)"
   ]
  },
  {
   "cell_type": "code",
   "execution_count": 100,
   "metadata": {},
   "outputs": [
    {
     "name": "stdout",
     "output_type": "stream",
     "text": [
      "[1 2 3 4 5]\n"
     ]
    }
   ],
   "source": [
    "#Example 1: Finding absolute of 1D array\n",
    "import numpy as np\n",
    "array = np.array([-1, -2, 3, -4, 5])\n",
    "array = np.absolute(array)\n",
    "print(array)\n"
   ]
  },
  {
   "cell_type": "code",
   "execution_count": null,
   "metadata": {},
   "outputs": [],
   "source": [
    "#Example 2: Finding absolute of 2D array\n",
    "import numpy as np\n"
   ]
  },
  {
   "cell_type": "markdown",
   "metadata": {},
   "source": [
    "### __Broadcasting in Numpy__\n",
    "- It is the ability of numpy to perform element-wise operations on array of different shapes, without explicitly copying the data\n",
    "- Broadcasting is only possible if one of the arrays have size 1. If not, they should be the same size\n",
    "- Trying to broadcast two arrays not compatible will raise in ValueError"
   ]
  },
  {
   "cell_type": "code",
   "execution_count": 67,
   "metadata": {},
   "outputs": [
    {
     "name": "stdout",
     "output_type": "stream",
     "text": [
      "[6 7 8] [-4 -3 -2] [ 5 10 15] [0.2 0.4 0.6]\n"
     ]
    }
   ],
   "source": [
    "#Example 1: Arithmetic between scalar and an array\n",
    "import numpy as np\n",
    "array = np.array([1,2,3])\n",
    "A=array+5\n",
    "B=array-5\n",
    "C=array*5\n",
    "D=array/5\n",
    "print(A,B,C,D)"
   ]
  },
  {
   "cell_type": "code",
   "execution_count": 71,
   "metadata": {},
   "outputs": [
    {
     "name": "stdout",
     "output_type": "stream",
     "text": [
      "[[110 220 330]\n",
      " [410 520 630]]\n",
      "[[ 90 180 270]\n",
      " [390 480 570]]\n",
      "[[ 1000  4000  9000]\n",
      " [ 4000 10000 18000]]\n",
      "[[10. 10. 10.]\n",
      " [40. 25. 20.]]\n"
     ]
    }
   ],
   "source": [
    "#Example 2: Broadcasting 1D array to 2D array\n",
    "import numpy as np\n",
    "array_1=np.array([10,20,30])\n",
    "array_2=np.array([[100,200,300],[400,500,600]])\n",
    "A=array_2+array_1\n",
    "B=array_2-array_1\n",
    "C=array_2*array_1\n",
    "D=array_2/array_1\n",
    "print(A,B,C,D,sep='\\n')\n"
   ]
  },
  {
   "cell_type": "code",
   "execution_count": 73,
   "metadata": {},
   "outputs": [
    {
     "name": "stdout",
     "output_type": "stream",
     "text": [
      "[[[11 22]\n",
      "  [13 24]]\n",
      "\n",
      " [[15 26]\n",
      "  [17 28]]]\n"
     ]
    }
   ],
   "source": [
    "#Example 3: Broadcasting array with different shapes\n",
    "arr_3d = np.array([[[1, 2], [3, 4]],\n",
    "                   [[5, 6], [7, 8]]])\n",
    "arr_broadcast = np.array([10, 20])\n",
    "result = arr_3d + arr_broadcast\n",
    "print(result)\n"
   ]
  },
  {
   "cell_type": "markdown",
   "metadata": {},
   "source": [
    "### __Conditional Selection__\n",
    "- Numpy allows you to filter arrays by specifying a condition using boolean/conditional operators"
   ]
  },
  {
   "cell_type": "code",
   "execution_count": null,
   "metadata": {},
   "outputs": [],
   "source": [
    "#Syntax:\n",
    "#import numpy as np\n",
    "#filtered_array=array[condition]"
   ]
  },
  {
   "cell_type": "code",
   "execution_count": 75,
   "metadata": {},
   "outputs": [
    {
     "name": "stdout",
     "output_type": "stream",
     "text": [
      "[25 30 35 40]\n",
      "[10 15 25]\n"
     ]
    }
   ],
   "source": [
    "#Example 1:\n",
    "import numpy as np\n",
    "array = np.array([10,15,25,30,35,40])\n",
    "\n",
    "#Filter array with elements grater than 20\n",
    "filtered_array=array[array>20]\n",
    "print(filtered_array)\n",
    "\n",
    "#Filter array with elements less than 27\n",
    "filtered_array=array[array<27]\n",
    "print(filtered_array)"
   ]
  },
  {
   "cell_type": "code",
   "execution_count": 76,
   "metadata": {},
   "outputs": [
    {
     "name": "stdout",
     "output_type": "stream",
     "text": [
      "Elements greater than 15 and less than 35: [20 25 30]\n"
     ]
    }
   ],
   "source": [
    "#Example 2: Using multiple conditions\n",
    "arr = np.array([10, 15, 20, 25, 30, 35, 40])\n",
    "# Condition: Select elements greater than 15 and less than 35\n",
    "filtered_arr = arr[(arr > 15) & (arr < 35)]\n",
    "print(\"Elements greater than 15 and less than 35:\", filtered_arr)\n"
   ]
  }
 ],
 "metadata": {
  "kernelspec": {
   "display_name": "Python 3",
   "language": "python",
   "name": "python3"
  },
  "language_info": {
   "codemirror_mode": {
    "name": "ipython",
    "version": 3
   },
   "file_extension": ".py",
   "mimetype": "text/x-python",
   "name": "python",
   "nbconvert_exporter": "python",
   "pygments_lexer": "ipython3",
   "version": "3.12.1"
  }
 },
 "nbformat": 4,
 "nbformat_minor": 2
}
